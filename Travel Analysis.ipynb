{
 "cells": [
  {
   "cell_type": "code",
   "execution_count": 3,
   "id": "6cbd7a92",
   "metadata": {},
   "outputs": [],
   "source": [
    "import pandas as pd \n",
    "import matplotlib.pyplot as plt\n",
    "import seaborn as sns\n",
    "import numpy as np\n",
    "\n",
    "travels = pd.read_csv('customertravel.csv')"
   ]
  },
  {
   "cell_type": "code",
   "execution_count": 4,
   "id": "3c40fe14",
   "metadata": {},
   "outputs": [
    {
     "data": {
      "text/html": [
       "<div>\n",
       "<style scoped>\n",
       "    .dataframe tbody tr th:only-of-type {\n",
       "        vertical-align: middle;\n",
       "    }\n",
       "\n",
       "    .dataframe tbody tr th {\n",
       "        vertical-align: top;\n",
       "    }\n",
       "\n",
       "    .dataframe thead th {\n",
       "        text-align: right;\n",
       "    }\n",
       "</style>\n",
       "<table border=\"1\" class=\"dataframe\">\n",
       "  <thead>\n",
       "    <tr style=\"text-align: right;\">\n",
       "      <th></th>\n",
       "      <th>Age</th>\n",
       "      <th>FrequentFlyer</th>\n",
       "      <th>AnnualIncomeClass</th>\n",
       "      <th>ServicesOpted</th>\n",
       "      <th>AccountSyncedToSocialMedia</th>\n",
       "      <th>BookedHotelOrNot</th>\n",
       "      <th>Target</th>\n",
       "    </tr>\n",
       "  </thead>\n",
       "  <tbody>\n",
       "    <tr>\n",
       "      <th>0</th>\n",
       "      <td>34</td>\n",
       "      <td>No</td>\n",
       "      <td>Middle Income</td>\n",
       "      <td>6</td>\n",
       "      <td>No</td>\n",
       "      <td>Yes</td>\n",
       "      <td>0</td>\n",
       "    </tr>\n",
       "    <tr>\n",
       "      <th>1</th>\n",
       "      <td>34</td>\n",
       "      <td>Yes</td>\n",
       "      <td>Low Income</td>\n",
       "      <td>5</td>\n",
       "      <td>Yes</td>\n",
       "      <td>No</td>\n",
       "      <td>1</td>\n",
       "    </tr>\n",
       "    <tr>\n",
       "      <th>2</th>\n",
       "      <td>37</td>\n",
       "      <td>No</td>\n",
       "      <td>Middle Income</td>\n",
       "      <td>3</td>\n",
       "      <td>Yes</td>\n",
       "      <td>No</td>\n",
       "      <td>0</td>\n",
       "    </tr>\n",
       "    <tr>\n",
       "      <th>3</th>\n",
       "      <td>30</td>\n",
       "      <td>No</td>\n",
       "      <td>Middle Income</td>\n",
       "      <td>2</td>\n",
       "      <td>No</td>\n",
       "      <td>No</td>\n",
       "      <td>0</td>\n",
       "    </tr>\n",
       "    <tr>\n",
       "      <th>4</th>\n",
       "      <td>30</td>\n",
       "      <td>No</td>\n",
       "      <td>Low Income</td>\n",
       "      <td>1</td>\n",
       "      <td>No</td>\n",
       "      <td>No</td>\n",
       "      <td>0</td>\n",
       "    </tr>\n",
       "  </tbody>\n",
       "</table>\n",
       "</div>"
      ],
      "text/plain": [
       "   Age FrequentFlyer AnnualIncomeClass  ServicesOpted  \\\n",
       "0   34            No     Middle Income              6   \n",
       "1   34           Yes        Low Income              5   \n",
       "2   37            No     Middle Income              3   \n",
       "3   30            No     Middle Income              2   \n",
       "4   30            No        Low Income              1   \n",
       "\n",
       "  AccountSyncedToSocialMedia BookedHotelOrNot  Target  \n",
       "0                         No              Yes       0  \n",
       "1                        Yes               No       1  \n",
       "2                        Yes               No       0  \n",
       "3                         No               No       0  \n",
       "4                         No               No       0  "
      ]
     },
     "execution_count": 4,
     "metadata": {},
     "output_type": "execute_result"
    }
   ],
   "source": [
    "travels.head()"
   ]
  },
  {
   "cell_type": "code",
   "execution_count": 5,
   "id": "751a0be5",
   "metadata": {},
   "outputs": [
    {
     "data": {
      "text/html": [
       "<div>\n",
       "<style scoped>\n",
       "    .dataframe tbody tr th:only-of-type {\n",
       "        vertical-align: middle;\n",
       "    }\n",
       "\n",
       "    .dataframe tbody tr th {\n",
       "        vertical-align: top;\n",
       "    }\n",
       "\n",
       "    .dataframe thead th {\n",
       "        text-align: right;\n",
       "    }\n",
       "</style>\n",
       "<table border=\"1\" class=\"dataframe\">\n",
       "  <thead>\n",
       "    <tr style=\"text-align: right;\">\n",
       "      <th></th>\n",
       "      <th>Age</th>\n",
       "      <th>FrequentFlyer</th>\n",
       "      <th>AnnualIncomeClass</th>\n",
       "      <th>ServicesOpted</th>\n",
       "      <th>AccountSyncedToSocialMedia</th>\n",
       "      <th>BookedHotelOrNot</th>\n",
       "      <th>Target</th>\n",
       "    </tr>\n",
       "  </thead>\n",
       "  <tbody>\n",
       "    <tr>\n",
       "      <th>949</th>\n",
       "      <td>31</td>\n",
       "      <td>Yes</td>\n",
       "      <td>Low Income</td>\n",
       "      <td>1</td>\n",
       "      <td>No</td>\n",
       "      <td>No</td>\n",
       "      <td>0</td>\n",
       "    </tr>\n",
       "    <tr>\n",
       "      <th>950</th>\n",
       "      <td>30</td>\n",
       "      <td>No</td>\n",
       "      <td>Middle Income</td>\n",
       "      <td>5</td>\n",
       "      <td>No</td>\n",
       "      <td>Yes</td>\n",
       "      <td>0</td>\n",
       "    </tr>\n",
       "    <tr>\n",
       "      <th>951</th>\n",
       "      <td>37</td>\n",
       "      <td>No</td>\n",
       "      <td>Middle Income</td>\n",
       "      <td>4</td>\n",
       "      <td>No</td>\n",
       "      <td>No</td>\n",
       "      <td>0</td>\n",
       "    </tr>\n",
       "    <tr>\n",
       "      <th>952</th>\n",
       "      <td>30</td>\n",
       "      <td>No</td>\n",
       "      <td>Low Income</td>\n",
       "      <td>1</td>\n",
       "      <td>Yes</td>\n",
       "      <td>Yes</td>\n",
       "      <td>0</td>\n",
       "    </tr>\n",
       "    <tr>\n",
       "      <th>953</th>\n",
       "      <td>31</td>\n",
       "      <td>Yes</td>\n",
       "      <td>High Income</td>\n",
       "      <td>1</td>\n",
       "      <td>No</td>\n",
       "      <td>No</td>\n",
       "      <td>0</td>\n",
       "    </tr>\n",
       "  </tbody>\n",
       "</table>\n",
       "</div>"
      ],
      "text/plain": [
       "     Age FrequentFlyer AnnualIncomeClass  ServicesOpted  \\\n",
       "949   31           Yes        Low Income              1   \n",
       "950   30            No     Middle Income              5   \n",
       "951   37            No     Middle Income              4   \n",
       "952   30            No        Low Income              1   \n",
       "953   31           Yes       High Income              1   \n",
       "\n",
       "    AccountSyncedToSocialMedia BookedHotelOrNot  Target  \n",
       "949                         No               No       0  \n",
       "950                         No              Yes       0  \n",
       "951                         No               No       0  \n",
       "952                        Yes              Yes       0  \n",
       "953                         No               No       0  "
      ]
     },
     "execution_count": 5,
     "metadata": {},
     "output_type": "execute_result"
    }
   ],
   "source": [
    "travels.tail()"
   ]
  },
  {
   "cell_type": "code",
   "execution_count": 6,
   "id": "1f25345e",
   "metadata": {},
   "outputs": [
    {
     "data": {
      "text/plain": [
       "<seaborn.axisgrid.PairGrid at 0x255a1237940>"
      ]
     },
     "execution_count": 6,
     "metadata": {},
     "output_type": "execute_result"
    },
    {
     "data": {
      "image/png": "[encoded data removed]",
      "text/plain": [
       "<Figure size 540x540 with 12 Axes>"
      ]
     },
     "metadata": {
      "needs_background": "light"
     },
     "output_type": "display_data"
    }
   ],
   "source": [
    "sns.pairplot(travels)"
   ]
  },
  {
   "cell_type": "code",
   "execution_count": 7,
   "id": "f2617819",
   "metadata": {},
   "outputs": [
    {
     "data": {
      "text/plain": [
       "<AxesSubplot:>"
      ]
     },
     "execution_count": 7,
     "metadata": {},
     "output_type": "execute_result"
    },
    {
     "data": {
      "image/png": "[encoded data removed]",
      "text/plain": [
       "<Figure size 1440x576 with 2 Axes>"
      ]
     },
     "metadata": {
      "needs_background": "light"
     },
     "output_type": "display_data"
    }
   ],
   "source": [
    "plt.figure(figsize = (20,8))\n",
    "sns.heatmap(travels.corr(), annot=True)"
   ]
  },
  {
   "cell_type": "markdown",
   "id": "7038d30c",
   "metadata": {},
   "source": [
    "# Issue where there's too much categorical data that I can't analyze through heatmaps and pairplots, so time to get_dummies. "
   ]
  },
  {
   "cell_type": "code",
   "execution_count": null,
   "id": "5e4a3ed3",
   "metadata": {},
   "outputs": [],
   "source": []
  }
 ],
 "metadata": {
  "kernelspec": {
   "display_name": "Python 3 (ipykernel)",
   "language": "python",
   "name": "python3"
  },
  "language_info": {
   "codemirror_mode": {
    "name": "ipython",
    "version": 3
   },
   "file_extension": ".py",
   "mimetype": "text/x-python",
   "name": "python",
   "nbconvert_exporter": "python",
   "pygments_lexer": "ipython3",
   "version": "3.9.12"
  }
 },
 "nbformat": 4,
 "nbformat_minor": 5
}
